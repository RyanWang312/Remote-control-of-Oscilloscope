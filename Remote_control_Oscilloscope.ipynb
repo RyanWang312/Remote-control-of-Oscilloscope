{
 "cells": [
  {
   "cell_type": "markdown",
   "metadata": {},
   "source": [
    "**Connect to the Oscilloscope**"
   ]
  },
  {
   "cell_type": "code",
   "execution_count": null,
   "metadata": {},
   "outputs": [],
   "source": [
    "import visa\n",
    "\n",
    "# Creates instance of the ActiveDSO control\n",
    "rm = visa.ResourceManager()\n",
    "\n",
    "# Connects to the oscilloscope.\n",
    "lecroy = rm.open_resource(\"TCPIP0::<hostname|IP address>::INSTR\")\n",
    "\n",
    "# Set up 'time out' error to appear after 5 sec\n",
    "lecroy.timeout = 5000\n",
    "\n",
    "# Clear the buffers sent to the oscilloscope before\n",
    "lecroy.clear() "
   ]
  },
  {
   "cell_type": "markdown",
   "metadata": {},
   "source": [
    "**Set up the \"environment\"**"
   ]
  },
  {
   "cell_type": "code",
   "execution_count": null,
   "metadata": {},
   "outputs": [],
   "source": [
    "# Tells the oscilloscope  \"don't return the commandheader with query result.\"\n",
    "lecroy.write(\"COMM_HEADER OFF\")\n",
    "\n",
    "# Recall the default setup\n",
    "lecroy.write(r\"\"\"vbs 'app.settodefaultsetup' \"\"\")\n",
    "\n",
    "# Set up the wait time of receiving new acquisition\n",
    "lecroy.query(r\"\"\"vbs? 'return=app.WaitUntilIdle(5)' \"\"\")\n",
    "\n",
    "# Stop the previous acquisition first\n",
    "lecroy.write(r\"\"\"vbs 'app.acquisition.triggermode = \"stopped\" ' \"\"\")\n",
    "\n",
    "# Set up trigger\n",
    "lecroy.write(r\"\"\"vbs 'app.acquisition.trigger.edge.level = <value>' \"\"\")\n",
    "lecroy.write(r\"\"\"vbs 'app.acquisition.triggermode = \"single\" ' \"\"\")\n",
    "\n",
    "# Set up horizontal maximize value\n",
    "lecroy.write(r\"\"\"vbs 'app.acquisition.horizontal.maximize = \"<value>\" ' \"\"\")\n",
    "\n",
    "# Clear previsous setup measurements\n",
    "lecroy.write(r\"\"\"vbs 'app.measure.clearall ' \"\"\")\n",
    "lecroy.write(r\"\"\"vbs 'app.measure.clearsweeps ' \"\"\")\n",
    "\n",
    "# Set up new measurements\n",
    "# Turn on measurements, statistics, parameter\n",
    "lecroy.write(r\"\"\"vbs 'app.measure.showmeasure = true ' \"\"\")\n",
    "lecroy.write(r\"\"\"vbs 'app.measure.statson = true ' \"\"\")\n",
    "lecroy.write(r\"\"\"vbs 'app.measure.p1.view = true ' \"\"\")\n",
    "# Set the parameter we want to measure\n",
    "lecroy.write(r\"\"\"vbs 'app.measure.p1.paramengine = \"<value>\" ' \"\"\")\n",
    "# Set the parameter source\n",
    "lecroy.write(r\"\"\"vbs 'app.measure.p1.source1 = \"C1\" ' \"\"\")\n"
   ]
  },
  {
   "cell_type": "markdown",
   "metadata": {},
   "source": [
    "**Set up control variables**"
   ]
  },
  {
   "cell_type": "code",
   "execution_count": null,
   "metadata": {},
   "outputs": [],
   "source": [
    "# app.Acquisition has a lot of command to change the variables\n",
    "# i.e. Set the C1 V/div to 20mV\n",
    "lecroy.write(r\"\"\"vbs 'app.Acquisition.C1.VDIV=\".02 V\" ' \"\"\", 1)"
   ]
  },
  {
   "cell_type": "markdown",
   "metadata": {},
   "source": [
    "**Acquire**"
   ]
  },
  {
   "cell_type": "code",
   "execution_count": null,
   "metadata": {},
   "outputs": [],
   "source": [
    "# Set up acquisitions numbers: epochs\n",
    "for i in range(0,epochs):\n",
    "    # Forcing a trigger if none occurs after 0.1seconds\n",
    "    r = lecroy.query(r\"\"\"vbs? 'return=app.acquisition.acquire( 0.1 , True )' \"\"\")\n",
    "    # Wait for 5 secs after all aquisitions is completed before measuering\n",
    "    r = lecroy.query(r\"\"\"vbs? 'return=app.WaitUntilIdle(5)' \"\"\")\n",
    "    if r==0:\n",
    "        print(\"Time out from WaitUntilIdle, return = {0}\".format(r))"
   ]
  },
  {
   "cell_type": "markdown",
   "metadata": {},
   "source": [
    "**Read the result**"
   ]
  },
  {
   "cell_type": "code",
   "execution_count": null,
   "metadata": {},
   "outputs": [],
   "source": [
    "<var> = lecroy.query(r\"\"\"vbs? 'return=app.measure.p1.out.result.value' \"\"\")\n",
    "print(\"<var> = {0}\".format(<var>))"
   ]
  },
  {
   "cell_type": "markdown",
   "metadata": {},
   "source": [
    "**Disconnect**"
   ]
  },
  {
   "cell_type": "code",
   "execution_count": null,
   "metadata": {},
   "outputs": [],
   "source": [
    "lecroy.close()\n",
    "rm.close()"
   ]
  }
 ],
 "metadata": {
  "kernelspec": {
   "display_name": "Python 3",
   "language": "python",
   "name": "python3"
  },
  "language_info": {
   "codemirror_mode": {
    "name": "ipython",
    "version": 3
   },
   "file_extension": ".py",
   "mimetype": "text/x-python",
   "name": "python",
   "nbconvert_exporter": "python",
   "pygments_lexer": "ipython3",
   "version": "3.6.5"
  }
 },
 "nbformat": 4,
 "nbformat_minor": 2
}
